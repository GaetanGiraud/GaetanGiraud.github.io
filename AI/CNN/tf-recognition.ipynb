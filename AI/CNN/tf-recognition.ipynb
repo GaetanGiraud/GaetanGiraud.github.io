{
 "cells": [
  {
   "cell_type": "markdown",
   "metadata": {},
   "source": [
    "# Traffic Sign Recognition using a CNN"
   ]
  },
  {
   "cell_type": "markdown",
   "metadata": {},
   "source": [
    "### Classification\n",
    "One of the most common use case when doing image recognition is what we call classification. Basically, when presented with a picture, the algorithm should be able to tell what the picture represent, give it one (or several) **label**.\n",
    "\n",
    "### Traffic Sign Recognition\n",
    "One subclass of problem is the recognition of traffic signs on the roads. I do not have to explain that this has been (and still is) a very important research topic (see the self-driving car )\n",
    "\n",
    "<img src=\"https://www.seton.net.au/media/catalog/product/cache/1/small_image/280x280/9df78eab33525d08d6e5fb8d27136e95/a/3/a34046.jpg\" width=\"200\">\n",
    "\n",
    "Using a convolutional neural network, I'll try here to do a very basic classification, basically train a network to detect if the picture represent a traffic sign or not. \n",
    "\n",
    "### Setup\n",
    "I am using this data for this [Reference Data](http://parse.ele.tue.nl/research/speedsign/) from the university of Eindhoven in the Netherlands as it is already processed to a nice format (save us some time in image processing), and the dataset is relatively small (which suits my not all too powerfull GPU ... more about that below).\n",
    "\n",
    "We'll be using [TensorFlow](https://www.tensorflow.org/) on a GPU as back-end (NVidia with [CUDA/cuDNN](https://developer.nvidia.com/cuda-downloads) support, unfortunately only 2GB of RAM) and [Keras](https://keras.io/) on top of it to simplify the wiring. I'll leave it to the reader to install all of this. While the installation process has been getting better over the years, it is still cumbersone enough that it would take a whole notebook just to explain it!"
   ]
  },
  {
   "cell_type": "markdown",
   "metadata": {},
   "source": [
    "## Loading the libraries"
   ]
  },
  {
   "cell_type": "code",
   "execution_count": 1,
   "metadata": {},
   "outputs": [
    {
     "name": "stderr",
     "output_type": "stream",
     "text": [
      "Using TensorFlow backend.\n"
     ]
    }
   ],
   "source": [
    "## Loading the libraries\n",
    "import numpy\n",
    "import scipy.io as sio\n",
    "from scipy import misc\n",
    "from scipy.misc import toimage\n",
    "import numpy as np\n",
    "import matplotlib.pyplot as plt\n",
    "\n",
    "from keras.utils import np_utils\n",
    "from keras.models import Sequential\n",
    "from keras.layers import Dense\n",
    "from keras.layers import Dropout\n",
    "from keras.layers import Flatten\n",
    "from keras.constraints import maxnorm\n",
    "from keras.optimizers import SGD\n",
    "from keras.layers.convolutional import Conv2D\n",
    "from keras.layers.convolutional import MaxPooling2D\n",
    "from keras.utils import np_utils\n",
    "from keras import backend as K"
   ]
  },
  {
   "cell_type": "markdown",
   "metadata": {},
   "source": [
    "Checking that the GPU is enabled. In the jupyter standard output log, the following line indicates that the GPU has correctly been found and identified.\n",
    "\n",
    "```\n",
    "I c:\\tf_jenkins\\home\\workspace\\release-win\\device\\gpu\\os\\windows\\tensorflow\\core\\common_runtime\\gpu\\gpu_device.cc:885] Found device 0 with properties:\n",
    "name: Quadro K2100M\n",
    "major: 3 minor: 0 memoryClockRate (GHz) 0.6665\n",
    "pciBusID 0000:01:00.0\n",
    "Total memory: 2.00GiB\n",
    "Free memory: 1.66GiB\n",
    "```"
   ]
  },
  {
   "cell_type": "markdown",
   "metadata": {},
   "source": [
    "# Load the matlab dataset"
   ]
  },
  {
   "cell_type": "code",
   "execution_count": 2,
   "metadata": {},
   "outputs": [],
   "source": [
    "data = sio.loadmat(\"speedsigndataset.mat\")\n",
    "\n",
    "# Split in train and test data\n",
    "X_train_raw = data[\"trainset\"] \n",
    "y_train_raw = data[\"classtrainset\"] \n",
    "X_test_raw = data[\"testset\"] \n",
    "y_test_raw = data[\"classtestset\"] "
   ]
  },
  {
   "cell_type": "markdown",
   "metadata": {},
   "source": [
    "### What's the shape of the data set"
   ]
  },
  {
   "cell_type": "code",
   "execution_count": 3,
   "metadata": {},
   "outputs": [
    {
     "data": {
      "text/plain": [
       "(32, 32, 3100)"
      ]
     },
     "execution_count": 3,
     "metadata": {},
     "output_type": "execute_result"
    }
   ],
   "source": [
    "X_train_raw.shape"
   ]
  },
  {
   "cell_type": "markdown",
   "metadata": {},
   "source": [
    "The shape will need to be changed to fit the model"
   ]
  },
  {
   "cell_type": "markdown",
   "metadata": {},
   "source": [
    "## What's in the dataset"
   ]
  },
  {
   "cell_type": "markdown",
   "metadata": {},
   "source": [
    "The training data is made of b&w pictures (32 x 32 pixels), let's have a look to get a feeling of the content of the dataset. Always a good starting point when working with pictures."
   ]
  },
  {
   "cell_type": "code",
   "execution_count": 4,
   "metadata": {},
   "outputs": [
    {
     "data": {
      "image/png": "[encoded data removed]",
      "text/plain": [
       "<matplotlib.figure.Figure at 0x154d3249cf8>"
      ]
     },
     "metadata": {},
     "output_type": "display_data"
    }
   ],
   "source": [
    "X_train_photo = numpy.rollaxis(X_train_raw,2,0)\n",
    "\n",
    "for i in range(0,9):\n",
    "    plt.subplot(330 + 1 + i)\n",
    "    plt.axis('off')\n",
    "    plt.imshow(toimage(X_train_photo[i]), cmap=plt.cm.gray)\n",
    "plt.show()\n"
   ]
  },
  {
   "cell_type": "markdown",
   "metadata": {},
   "source": [
    "There are 2 labelling schemes in the label array as described in the table below (column output label). We are interesting only in the first one here, whether a picture is a traffic sign or not.(it would be easy to train a model to actually identify the speed limits)\n",
    "\n",
    "\n",
    "![alt text](dataTable.png \"Labels structure\")\n"
   ]
  },
  {
   "cell_type": "markdown",
   "metadata": {},
   "source": [
    "## Format the dataset to match the requested CNN input format"
   ]
  },
  {
   "cell_type": "code",
   "execution_count": 5,
   "metadata": {},
   "outputs": [
    {
     "name": "stdout",
     "output_type": "stream",
     "text": [
      "Shape of X_train: (3100, 32, 32, 1), Shape of X_test: (517, 32, 32, 1) \n"
     ]
    }
   ],
   "source": [
    "# roll the axes to have the row length being the first parameter\n",
    "X_train_rolled = numpy.rollaxis(X_train_raw,2,0)\n",
    "\n",
    "# CNN accepts tensors of dimension 4 as input, so we need to add an extra dimension\n",
    "X_train = X_train_rolled.reshape(X_train_rolled.shape + (1,)).astype('float32') / 255\n",
    "\n",
    "# do the same for the test set\n",
    "X_test_rolled = numpy.rollaxis(X_test_raw,2,0)\n",
    "X_test = X_test_rolled.reshape(X_test_rolled.shape + (1,)).astype('float32') / 255\n",
    "\n",
    "\n",
    "print(\"Shape of X_train: {0}, Shape of X_test: {1} \".format(X_train.shape, X_test.shape) )"
   ]
  },
  {
   "cell_type": "markdown",
   "metadata": {},
   "source": [
    "Images are here already normalized between 0 and 1. When using RGB pictures for example, first normalizing them might improve the performance of the neural network."
   ]
  },
  {
   "cell_type": "markdown",
   "metadata": {},
   "source": [
    "### And now the labels"
   ]
  },
  {
   "cell_type": "markdown",
   "metadata": {},
   "source": [
    "We are only interested in the first columns"
   ]
  },
  {
   "cell_type": "code",
   "execution_count": 6,
   "metadata": {},
   "outputs": [
    {
     "name": "stdout",
     "output_type": "stream",
     "text": [
      "Shape of y_train: (3100, 2), Shape of y_test: (517, 2) \n"
     ]
    }
   ],
   "source": [
    "y_train_rolled = numpy.rollaxis(y_train_raw, 1, 0)\n",
    "y_test_rolled = numpy.rollaxis(y_test_raw, 1, 0)\n",
    "\n",
    "# Here the classes scheme is changed in a categorical scheme. 2 columns representing the 0 and 1, \n",
    "# a 1 is present when the column is selected, otherwise a 0.\n",
    "y_train = np_utils.to_categorical(y_train_rolled[:,0:1])\n",
    "y_test = np_utils.to_categorical(y_test_rolled[:,0:1])\n",
    "num_classes = y_test.shape[1]\n",
    "\n",
    "print(\"Shape of y_train: {0}, Shape of y_test: {1} \".format(y_train.shape, y_test.shape ))"
   ]
  },
  {
   "cell_type": "markdown",
   "metadata": {},
   "source": [
    "# Deep Neural Network"
   ]
  },
  {
   "cell_type": "markdown",
   "metadata": {},
   "source": [
    "### Define the network"
   ]
  },
  {
   "cell_type": "markdown",
   "metadata": {},
   "source": [
    "The model is a simple model with 2 convolutional layers and 2 dense layers, the first 3 have a relu activation and the latest a softmax.\n",
    "Dropout and Maxpooling are applied to improve the overall performance of the network.\n"
   ]
  },
  {
   "cell_type": "code",
   "execution_count": 7,
   "metadata": {},
   "outputs": [
    {
     "name": "stdout",
     "output_type": "stream",
     "text": [
      "_________________________________________________________________\n",
      "Layer (type)                 Output Shape              Param #   \n",
      "=================================================================\n",
      "conv2d_1 (Conv2D)            (None, 32, 32, 32)        320       \n",
      "_________________________________________________________________\n",
      "dropout_1 (Dropout)          (None, 32, 32, 32)        0         \n",
      "_________________________________________________________________\n",
      "conv2d_2 (Conv2D)            (None, 32, 32, 32)        9248      \n",
      "_________________________________________________________________\n",
      "max_pooling2d_1 (MaxPooling2 (None, 16, 16, 32)        0         \n",
      "_________________________________________________________________\n",
      "flatten_1 (Flatten)          (None, 8192)              0         \n",
      "_________________________________________________________________\n",
      "dense_1 (Dense)              (None, 512)               4194816   \n",
      "_________________________________________________________________\n",
      "dropout_2 (Dropout)          (None, 512)               0         \n",
      "_________________________________________________________________\n",
      "dense_2 (Dense)              (None, 2)                 1026      \n",
      "=================================================================\n",
      "Total params: 4,205,410.0\n",
      "Trainable params: 4,205,410.0\n",
      "Non-trainable params: 0.0\n",
      "_________________________________________________________________\n",
      "None\n"
     ]
    }
   ],
   "source": [
    "# Create the model\n",
    "model = Sequential()\n",
    "model.add(Conv2D(32, (3, 3), input_shape=(32, 32, 1), padding='same', activation='relu', kernel_constraint=maxnorm(3)))\n",
    "model.add(Dropout(0.2))\n",
    "model.add(Conv2D(32, (3, 3), activation='relu', padding='same', kernel_constraint=maxnorm(3)))\n",
    "model.add(MaxPooling2D(pool_size=(2, 2)))\n",
    "model.add(Flatten())\n",
    "model.add(Dense(512, activation='relu', kernel_constraint=maxnorm(3)))\n",
    "model.add(Dropout(0.5))\n",
    "model.add(Dense(num_classes, activation='softmax'))\n",
    "# Compile model\n",
    "epochs = 25\n",
    "lrate = 0.01\n",
    "decay = lrate/epochs\n",
    "sgd = SGD(lr=lrate, momentum=0.9, decay=decay, nesterov=False)\n",
    "model.compile(loss='categorical_crossentropy', optimizer=sgd, metrics=['accuracy'])\n",
    "print(model.summary())"
   ]
  },
  {
   "cell_type": "markdown",
   "metadata": {},
   "source": [
    "### Train the network"
   ]
  },
  {
   "cell_type": "code",
   "execution_count": 8,
   "metadata": {},
   "outputs": [
    {
     "name": "stdout",
     "output_type": "stream",
     "text": [
      "Train on 3100 samples, validate on 517 samples\n",
      "Epoch 1/25\n",
      "3100/3100 [==============================] - 6s - loss: 0.3669 - acc: 0.8542 - val_loss: 0.3510 - val_acc: 0.9130\n",
      "Epoch 2/25\n",
      "3100/3100 [==============================] - 5s - loss: 0.1708 - acc: 0.9439 - val_loss: 0.1689 - val_acc: 0.9439\n",
      "Epoch 3/25\n",
      "3100/3100 [==============================] - 5s - loss: 0.1060 - acc: 0.9606 - val_loss: 0.0963 - val_acc: 0.9536\n",
      "Epoch 4/25\n",
      "3100/3100 [==============================] - 5s - loss: 0.0750 - acc: 0.9745 - val_loss: 0.0703 - val_acc: 0.9671\n",
      "Epoch 5/25\n",
      "3100/3100 [==============================] - 5s - loss: 0.0524 - acc: 0.9832 - val_loss: 0.0631 - val_acc: 0.9729\n",
      "Epoch 6/25\n",
      "3100/3100 [==============================] - 5s - loss: 0.0461 - acc: 0.9829 - val_loss: 0.0476 - val_acc: 0.9807\n",
      "Epoch 7/25\n",
      "3100/3100 [==============================] - 5s - loss: 0.0352 - acc: 0.9858 - val_loss: 0.0460 - val_acc: 0.9826\n",
      "Epoch 8/25\n",
      "3100/3100 [==============================] - 5s - loss: 0.0280 - acc: 0.9923 - val_loss: 0.0443 - val_acc: 0.9845\n",
      "Epoch 9/25\n",
      "3100/3100 [==============================] - 5s - loss: 0.0248 - acc: 0.9916 - val_loss: 0.0292 - val_acc: 0.9903\n",
      "Epoch 10/25\n",
      "3100/3100 [==============================] - 5s - loss: 0.0227 - acc: 0.9923 - val_loss: 0.0287 - val_acc: 0.9884\n",
      "Epoch 11/25\n",
      "3100/3100 [==============================] - 5s - loss: 0.0167 - acc: 0.9945 - val_loss: 0.0242 - val_acc: 0.9923\n",
      "Epoch 12/25\n",
      "3100/3100 [==============================] - 5s - loss: 0.0150 - acc: 0.9955 - val_loss: 0.0223 - val_acc: 0.9923\n",
      "Epoch 13/25\n",
      "3100/3100 [==============================] - 5s - loss: 0.0128 - acc: 0.9955 - val_loss: 0.0225 - val_acc: 0.9903\n",
      "Epoch 14/25\n",
      "3100/3100 [==============================] - 5s - loss: 0.0102 - acc: 0.9971 - val_loss: 0.0227 - val_acc: 0.9903\n",
      "Epoch 15/25\n",
      "3100/3100 [==============================] - 5s - loss: 0.0125 - acc: 0.9961 - val_loss: 0.0207 - val_acc: 0.9923\n",
      "Epoch 16/25\n",
      "3100/3100 [==============================] - 5s - loss: 0.0086 - acc: 0.9984 - val_loss: 0.0313 - val_acc: 0.9884\n",
      "Epoch 17/25\n",
      "3100/3100 [==============================] - 5s - loss: 0.0100 - acc: 0.9965 - val_loss: 0.0132 - val_acc: 0.9942\n",
      "Epoch 18/25\n",
      "3100/3100 [==============================] - 5s - loss: 0.0073 - acc: 0.9984 - val_loss: 0.0215 - val_acc: 0.9923\n",
      "Epoch 19/25\n",
      "3100/3100 [==============================] - 5s - loss: 0.0076 - acc: 0.9977 - val_loss: 0.0181 - val_acc: 0.9923\n",
      "Epoch 20/25\n",
      "3100/3100 [==============================] - 5s - loss: 0.0077 - acc: 0.9971 - val_loss: 0.0159 - val_acc: 0.9942\n",
      "Epoch 21/25\n",
      "3100/3100 [==============================] - 5s - loss: 0.0048 - acc: 0.9990 - val_loss: 0.0131 - val_acc: 0.9942\n",
      "Epoch 22/25\n",
      "3100/3100 [==============================] - 5s - loss: 0.0047 - acc: 0.9990 - val_loss: 0.0124 - val_acc: 0.9942\n",
      "Epoch 23/25\n",
      "3100/3100 [==============================] - 5s - loss: 0.0049 - acc: 0.9987 - val_loss: 0.0131 - val_acc: 0.9942\n",
      "Epoch 24/25\n",
      "3100/3100 [==============================] - 5s - loss: 0.0036 - acc: 0.9990 - val_loss: 0.0140 - val_acc: 0.9942\n",
      "Epoch 25/25\n",
      "3100/3100 [==============================] - 5s - loss: 0.0046 - acc: 0.9990 - val_loss: 0.0128 - val_acc: 0.9961\n",
      "Accuracy: 99.61%\n"
     ]
    }
   ],
   "source": [
    "# Fit the model\n",
    "model.fit(X_train, y_train, validation_data=(X_test, y_test), epochs=epochs, batch_size=32)\n",
    "# Final evaluation of the model\n",
    "scores = model.evaluate(X_test, y_test, verbose=0)\n",
    "print(\"Accuracy: %.2f%%\" % (scores[1]*100))"
   ]
  },
  {
   "cell_type": "markdown",
   "metadata": {},
   "source": [
    "**This went well !!**\n",
    "\n",
    "To summarize: \n",
    "* \\> 4 millions parameters to train on !!\n",
    "* 5s per epoch (this is where the GPU comes in handy :0))\n",
    "\n",
    "Accuracy **99.61%** is quite impressive, of 3000 pictures it gets on average a bit more than 1 picture wrong!\n"
   ]
  },
  {
   "cell_type": "markdown",
   "metadata": {},
   "source": [
    "The network has been trained and is now saved into a file so we don't have to retrain it everytime we want to use."
   ]
  },
  {
   "cell_type": "code",
   "execution_count": 9,
   "metadata": {
    "collapsed": true
   },
   "outputs": [],
   "source": [
    "# now we save the model, so we don't have to do the training all over again\n",
    "model.save('eindhoven-model.h5')"
   ]
  },
  {
   "cell_type": "code",
   "execution_count": null,
   "metadata": {
    "collapsed": true
   },
   "outputs": [],
   "source": [
    "# loading the weights if we don't want to retrain the model\n",
    "model.load_weights('eindhoven-model.h5')"
   ]
  },
  {
   "cell_type": "markdown",
   "metadata": {},
   "source": [
    "Let's just get a quick look in the data to get a feeling of what the algorithm is doing."
   ]
  },
  {
   "cell_type": "code",
   "execution_count": 26,
   "metadata": {},
   "outputs": [
    {
     "data": {
      "image/png": "[encoded data removed]",
      "text/plain": [
       "<matplotlib.figure.Figure at 0x154c1782198>"
      ]
     },
     "metadata": {},
     "output_type": "display_data"
    }
   ],
   "source": [
    "from random import seed\n",
    "from random import randint\n",
    "seed(1241251) # so we always get the same number\n",
    "\n",
    "# parameters for image display\n",
    "numcols = 3\n",
    "numrows = 6\n",
    "\n",
    "from pylab import rcParams\n",
    "rcParams['figure.figsize'] = 10, 15\n",
    "\n",
    "# we start at index 90, and show 1 out of every 15 pictures\n",
    "pictureCount = 15;\n",
    "\n",
    "prediction = model.predict(X_test)\n",
    "\n",
    "for i in range(0,pictureCount):\n",
    "    \n",
    "    index = randint(0, len(X_test)) \n",
    "    \n",
    "    image = np.copy(X_test[index].reshape(32,32)) * 255\n",
    "    \n",
    "    # if prediction is 1, add a black border to the picture\n",
    "    \n",
    "    if prediction[index][1] > 0.5:\n",
    "        image[0:1] = 0\n",
    "        image[:,0] = 0\n",
    "        image[:,31] = 0\n",
    "        image[31,:] = 0\n",
    "    \n",
    "    \n",
    "    plt.subplot(6, 3, 1 + i) # nrows, ncols, plot_number\n",
    "    plt.axis('off')\n",
    "    plt.imshow(toimage(image), cmap=plt.cm.gray)\n",
    "plt.show()"
   ]
  },
  {
   "cell_type": "markdown",
   "metadata": {},
   "source": [
    "Looking nice right :-) "
   ]
  },
  {
   "cell_type": "code",
   "execution_count": null,
   "metadata": {
    "collapsed": true
   },
   "outputs": [],
   "source": []
  }
 ],
 "metadata": {
  "anaconda-cloud": {},
  "kernelspec": {
   "display_name": "Python 3",
   "language": "python",
   "name": "python3"
  },
  "language_info": {
   "codemirror_mode": {
    "name": "ipython",
    "version": 3
   },
   "file_extension": ".py",
   "mimetype": "text/x-python",
   "name": "python",
   "nbconvert_exporter": "python",
   "pygments_lexer": "ipython3",
   "version": "3.5.3"
  }
 },
 "nbformat": 4,
 "nbformat_minor": 2
}
